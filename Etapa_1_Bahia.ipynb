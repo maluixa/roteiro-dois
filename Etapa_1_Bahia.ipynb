{
 "cells": [
  {
   "cell_type": "code",
   "execution_count": 2,
   "id": "f4703bd9-cf3e-47e9-b7e8-66f877be7c93",
   "metadata": {},
   "outputs": [
    {
     "name": "stdout",
     "output_type": "stream",
     "text": [
      "A estimativa da população em 2013 é de : 14504264.109375\n",
      "O valor da população em 2011 é 14375359\n",
      "O valor da população em 2013 é 14504264\n",
      "O valor da população em 2015 é 14627482\n",
      "O valor da população em 2017 é 14751882\n"
     ]
    }
   ],
   "source": [
    "import numpy as np\n",
    "\n",
    "X = np.array([2010, 2012, 2014, 2016, 2018])\n",
    "Y = np.array([14302571, 14441531, 14565807, 14689684, 14812617])\n",
    "\n",
    "def dif_divididas(x, y):\n",
    "    n = len(y)\n",
    "    dif = np.zeros([n, n])\n",
    "    dif[:, 0] = y\n",
    "    for j in range(1, n):\n",
    "        for i in range(n - j):\n",
    "            dif[i][j] = (dif[i+1][j-1] - dif[i][j-1]) / (x[i+j] - x[i])\n",
    "    return dif\n",
    "\n",
    "def polinomio_newton(dif, x, xp):\n",
    "    n = len(x) - 1\n",
    "    p = dif[n]\n",
    "    for k in range(1, n+1):\n",
    "        p = dif[n-k] + (xp - x[n-k]) * p\n",
    "    return p\n",
    "\n",
    "dif_d = dif_divididas(X, Y)\n",
    "dif_d = dif_divididas(X, Y)[0, :]\n",
    "\n",
    "A = 2013\n",
    "Pop = polinomio_newton(dif_d, X, A)\n",
    "\n",
    "print(\"A estimativa da população em 2013 é de :\", Pop)\n",
    "\n",
    "ANO = [2011, 2013, 2015, 2017]\n",
    "tamanho = len(ANO)\n",
    "\n",
    "for i in range(tamanho):\n",
    "    y_new = polinomio_newton(dif_d, X, ANO[i])\n",
    "    print('O valor da população em %.0f é %.0f' % (ANO[i], y_new))\n",
    "\n"
   ]
  }
 ],
 "metadata": {
  "kernelspec": {
   "display_name": "Python [conda env:base] *",
   "language": "python",
   "name": "conda-base-py"
  },
  "language_info": {
   "codemirror_mode": {
    "name": "ipython",
    "version": 3
   },
   "file_extension": ".py",
   "mimetype": "text/x-python",
   "name": "python",
   "nbconvert_exporter": "python",
   "pygments_lexer": "ipython3",
   "version": "3.12.7"
  }
 },
 "nbformat": 4,
 "nbformat_minor": 5
}
